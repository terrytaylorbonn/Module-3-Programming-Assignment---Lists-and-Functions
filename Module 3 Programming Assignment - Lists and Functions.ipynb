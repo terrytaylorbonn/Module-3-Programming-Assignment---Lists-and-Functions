{
 "cells": [
  {
   "cell_type": "markdown",
   "id": "2076332f-0321-4334-9a14-8aee24b65e00",
   "metadata": {},
   "source": [
    "7.4 Make a list called things with these three strings as elements: \"mozzarella\", \"cinderella\", \"salmonella\"."
   ]
  },
  {
   "cell_type": "code",
   "execution_count": 9,
   "id": "94d6ca91-54e2-4dda-b12e-b78777aaba02",
   "metadata": {},
   "outputs": [],
   "source": [
    "things = [\"mozzarella\", \"cinderella\", \"salmonella\"]"
   ]
  },
  {
   "cell_type": "markdown",
   "id": "5d1015d2-d149-46c1-a4f4-497822b25752",
   "metadata": {},
   "source": [
    "7.6 Make the cheesy element of things all uppercase and then print the list."
   ]
  },
  {
   "cell_type": "code",
   "execution_count": 12,
   "id": "04c1e696-448a-4f34-b9b7-2c1fa1ed738d",
   "metadata": {},
   "outputs": [
    {
     "name": "stdout",
     "output_type": "stream",
     "text": [
      "['MOZZARELLA', 'cinderella', 'salmonella']\n"
     ]
    }
   ],
   "source": [
    "things = [\"mozzarella\", \"cinderella\", \"salmonella\"]\n",
    "\n",
    "# Make \"mozzarella\" uppercase\n",
    "things[0] = things[0].upper()\n",
    "\n",
    "# Print the updated list\n",
    "print(things)"
   ]
  },
  {
   "cell_type": "markdown",
   "id": "eba2a269-728a-4fb5-aa17-9e43c286077c",
   "metadata": {},
   "source": [
    "7.5 Capitalize the element in things that refers to a person and then print the list. Did it change the element in the list?"
   ]
  },
  {
   "cell_type": "code",
   "execution_count": 15,
   "id": "5d7bdf35-97b8-4e91-831d-c66a1c5b56bc",
   "metadata": {},
   "outputs": [
    {
     "name": "stdout",
     "output_type": "stream",
     "text": [
      "['mozzarella', 'Cinderella', 'salmonella']\n"
     ]
    }
   ],
   "source": [
    "things = [\"mozzarella\", \"cinderella\", \"salmonella\"]\n",
    "\n",
    "# Capitalize the element referring to a person (\"cinderella\")\n",
    "things[1] = things[1].capitalize()\n",
    "\n",
    "# Print the updated list\n",
    "print(things)"
   ]
  },
  {
   "cell_type": "markdown",
   "id": "4728abac-4c65-4310-ac76-ff52a6dca459",
   "metadata": {},
   "source": [
    "7.7 Delete the disease element from things, collect your Nobel Prize, and print the list."
   ]
  },
  {
   "cell_type": "code",
   "execution_count": 18,
   "id": "759b67ff-8dbf-4dcd-9cbc-ca6805642cd4",
   "metadata": {},
   "outputs": [
    {
     "name": "stdout",
     "output_type": "stream",
     "text": [
      "['mozzarella', 'Cinderella']\n"
     ]
    }
   ],
   "source": [
    "things = [\"mozzarella\", \"Cinderella\", \"salmonella\"]\n",
    "\n",
    "# Remove the disease element (\"salmonella\")\n",
    "things.remove(\"salmonella\")\n",
    "\n",
    "# Print the updated list\n",
    "print(things)\n"
   ]
  },
  {
   "cell_type": "markdown",
   "id": "a0322315-84b8-42c5-98e2-e7ead93c1317",
   "metadata": {},
   "source": [
    "9.1 Define a function called good() that returns the following list: ['Harry', 'Ron', 'Hermione']."
   ]
  },
  {
   "cell_type": "code",
   "execution_count": 20,
   "id": "177635d7-4d52-44b1-8314-f212289c068f",
   "metadata": {},
   "outputs": [
    {
     "name": "stdout",
     "output_type": "stream",
     "text": [
      "['Harry', 'Ron', 'Hermione']\n"
     ]
    }
   ],
   "source": [
    "def good():\n",
    "    return ['Harry', 'Ron', 'Hermione']\n",
    "print(good())"
   ]
  },
  {
   "cell_type": "markdown",
   "id": "8ecb425c-63fb-49bd-affb-62dbdcc149c0",
   "metadata": {},
   "source": [
    "9.2 Define a generator function called get_odds() that returns the odd numbers from range(10). Use a for loop to find and print t\n",
    "he third value returned."
   ]
  },
  {
   "cell_type": "code",
   "execution_count": 24,
   "id": "3dbb10d7-4385-4768-89bb-c805e199249e",
   "metadata": {},
   "outputs": [
    {
     "name": "stdout",
     "output_type": "stream",
     "text": [
      "5\n"
     ]
    }
   ],
   "source": [
    "# Define the generator function\n",
    "def get_odds():\n",
    "    for num in range(10):\n",
    "        if num % 2 != 0:  # Check if the number is odd\n",
    "            yield num\n",
    "\n",
    "# Create the generator object\n",
    "odd_numbers = get_odds()\n",
    "\n",
    "# Use a for loop to find and print the third value returned\n",
    "for i, value in enumerate(odd_numbers, start=1):\n",
    "    if i == 3:\n",
    "        print(value)\n",
    "        break\n"
   ]
  },
  {
   "cell_type": "code",
   "execution_count": null,
   "id": "23a60bd2-cacd-4aad-861e-c2999abb21e1",
   "metadata": {},
   "outputs": [],
   "source": []
  }
 ],
 "metadata": {
  "kernelspec": {
   "display_name": "Python 3 (ipykernel)",
   "language": "python",
   "name": "python3"
  },
  "language_info": {
   "codemirror_mode": {
    "name": "ipython",
    "version": 3
   },
   "file_extension": ".py",
   "mimetype": "text/x-python",
   "name": "python",
   "nbconvert_exporter": "python",
   "pygments_lexer": "ipython3",
   "version": "3.12.4"
  }
 },
 "nbformat": 4,
 "nbformat_minor": 5
}
