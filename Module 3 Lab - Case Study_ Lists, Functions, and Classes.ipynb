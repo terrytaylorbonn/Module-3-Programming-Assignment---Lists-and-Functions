{
 "cells": [
  {
   "cell_type": "code",
   "execution_count": 1,
   "id": "d495cd6e-f6a6-47f7-9d68-b48ebef592db",
   "metadata": {},
   "outputs": [
    {
     "name": "stdout",
     "output_type": "stream",
     "text": [
      "Welcome to the Vehicle Info app!\n"
     ]
    },
    {
     "name": "stdin",
     "output_type": "stream",
     "text": [
      "Enter the year of the car:  2222\n",
      "Enter the make of the car:  makeeeeee\n",
      "Enter the model of the car:  modellll\n",
      "Enter the number of doors (2 or 4):  2\n",
      "Enter the type of roof (solid or sun roof):  solid\n"
     ]
    },
    {
     "name": "stdout",
     "output_type": "stream",
     "text": [
      "Vehicle type: car\n",
      "Year: 2222\n",
      "Make: makeeeeee\n",
      "Model: modellll\n",
      "Number of doors: 2\n",
      "Type of roof: solid\n"
     ]
    }
   ],
   "source": [
    "# Superclass Vehicle\n",
    "class Vehicle:\n",
    "    def __init__(self, vehicle_type):\n",
    "        self.vehicle_type = vehicle_type\n",
    "\n",
    "# Subclass Automobile inheriting from Vehicle\n",
    "class Automobile(Vehicle):\n",
    "    def __init__(self, vehicle_type, year, make, model, doors, roof):\n",
    "        # Call the superclass (Vehicle) constructor to initialize vehicle_type\n",
    "        super().__init__(vehicle_type)\n",
    "        # Initialize the Automobile-specific attributes\n",
    "        self.year = year\n",
    "        self.make = make\n",
    "        self.model = model\n",
    "        self.doors = doors\n",
    "        self.roof = roof\n",
    "\n",
    "    # Method to display the information in a readable format\n",
    "    def display_info(self):\n",
    "        print(f\"Vehicle type: {self.vehicle_type}\")\n",
    "        print(f\"Year: {self.year}\")\n",
    "        print(f\"Make: {self.make}\")\n",
    "        print(f\"Model: {self.model}\")\n",
    "        print(f\"Number of doors: {self.doors}\")\n",
    "        print(f\"Type of roof: {self.roof}\")\n",
    "\n",
    "# Main function to run the app\n",
    "def main():\n",
    "    print(\"Welcome to the Vehicle Info app!\")\n",
    "\n",
    "    # Collect input from the user\n",
    "    vehicle_type = \"car\"  # Hardcoded as \"car\"\n",
    "    \n",
    "    year = input(\"Enter the year of the car: \")\n",
    "    make = input(\"Enter the make of the car: \")\n",
    "    model = input(\"Enter the model of the car: \")\n",
    "    doors = input(\"Enter the number of doors (2 or 4): \")\n",
    "    roof = input(\"Enter the type of roof (solid or sun roof): \")\n",
    "    \n",
    "    # Convert doors to an integer\n",
    "    doors = int(doors)\n",
    "\n",
    "    # Create an instance of Automobile with the user input\n",
    "    car = Automobile(vehicle_type, year, make, model, doors, roof)\n",
    "\n",
    "    # Output the car's information\n",
    "    car.display_info()\n",
    "\n",
    "# Run the app\n",
    "if __name__ == \"__main__\":\n",
    "    main()\n"
   ]
  },
  {
   "cell_type": "code",
   "execution_count": null,
   "id": "54fa114e-23a6-49fe-885b-4f4d11476a01",
   "metadata": {},
   "outputs": [],
   "source": []
  }
 ],
 "metadata": {
  "kernelspec": {
   "display_name": "Python 3 (ipykernel)",
   "language": "python",
   "name": "python3"
  },
  "language_info": {
   "codemirror_mode": {
    "name": "ipython",
    "version": 3
   },
   "file_extension": ".py",
   "mimetype": "text/x-python",
   "name": "python",
   "nbconvert_exporter": "python",
   "pygments_lexer": "ipython3",
   "version": "3.12.4"
  }
 },
 "nbformat": 4,
 "nbformat_minor": 5
}
