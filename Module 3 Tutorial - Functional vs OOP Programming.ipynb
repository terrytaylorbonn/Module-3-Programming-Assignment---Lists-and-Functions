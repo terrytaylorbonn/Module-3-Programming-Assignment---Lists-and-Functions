{
 "cells": [
  {
   "cell_type": "markdown",
   "id": "d99582ae-3058-4933-afa3-f3d74064a7de",
   "metadata": {},
   "source": [
    " Sort an Array of 0s, 1s, and 2s"
   ]
  },
  {
   "cell_type": "code",
   "execution_count": 1,
   "id": "229c39ad-be26-4d7a-8291-66725e0b31db",
   "metadata": {},
   "outputs": [
    {
     "name": "stdout",
     "output_type": "stream",
     "text": [
      "0 0 1 1 2 2 "
     ]
    }
   ],
   "source": [
    "# Function to sort an array of 0s, 1s and 2s\n",
    "def sort012(arr):\n",
    "    c0 = 0\n",
    "    c1 = 0\n",
    "    c2 = 0\n",
    "\n",
    "    # Count 0s, 1s and 2s\n",
    "    for num in arr:\n",
    "        if num == 0:\n",
    "            c0 += 1\n",
    "        elif num == 1:\n",
    "            c1 += 1\n",
    "        else:\n",
    "            c2 += 1\n",
    "\n",
    "    idx = 0\n",
    "    \n",
    "    # Place all the 0s\n",
    "    for i in range(c0):\n",
    "        arr[idx] = 0\n",
    "        idx += 1\n",
    "\n",
    "    # Place all the 1s\n",
    "    for i in range(c1):\n",
    "        arr[idx] = 1\n",
    "        idx += 1\n",
    "\n",
    "    # Place all the 2s\n",
    "    for i in range(c2):\n",
    "        arr[idx] = 2\n",
    "        idx += 1\n",
    "\n",
    "\n",
    "arr = [0, 1, 2, 0, 1, 2]\n",
    "sort012(arr)\n",
    "\n",
    "for x in arr:\n",
    "  print(x, end = \" \")"
   ]
  },
  {
   "cell_type": "code",
   "execution_count": 5,
   "id": "53058a3f-972a-48a7-af6c-ef87d98ebf83",
   "metadata": {},
   "outputs": [
    {
     "name": "stdout",
     "output_type": "stream",
     "text": [
      "Element is present at index  3\n"
     ]
    }
   ],
   "source": [
    "# Returns index of x in arr if present, else -1\n",
    "\n",
    "\n",
    "def binarySearch(arr, l, r, x):\n",
    "\n",
    "    # Check base case\n",
    "    if r >= l:\n",
    "\n",
    "        mid = l + (r - l) // 2\n",
    "\n",
    "        # If element is present at the middle itself\n",
    "        if arr[mid] == x:\n",
    "            return mid\n",
    "\n",
    "        # If element is smaller than mid, then it\n",
    "        # can only be present in left subarray\n",
    "        elif arr[mid] > x:\n",
    "            return binarySearch(arr, l, mid-1, x)\n",
    "\n",
    "        # Else the element can only be present\n",
    "        # in right subarray\n",
    "        else:\n",
    "            return binarySearch(arr, mid + 1, r, x)\n",
    "\n",
    "    else:\n",
    "        # Element is not present in the array\n",
    "        return -1\n",
    "\n",
    "\n",
    "# Driver Code\n",
    "arr = [2, 3, 4, 10, 40]\n",
    "x = 10\n",
    "\n",
    "# Function call\n",
    "result = binarySearch(arr, 0, len(arr)-1, x)\n",
    "\n",
    "if result != -1:\n",
    "    print(\"Element is present at index % d\" % result)\n",
    "else:\n",
    "    print(\"Element is not present in array\")"
   ]
  },
  {
   "cell_type": "code",
   "execution_count": null,
   "id": "f3a1d168-426b-4074-9436-45c782160e44",
   "metadata": {},
   "outputs": [],
   "source": []
  }
 ],
 "metadata": {
  "kernelspec": {
   "display_name": "Python 3 (ipykernel)",
   "language": "python",
   "name": "python3"
  },
  "language_info": {
   "codemirror_mode": {
    "name": "ipython",
    "version": 3
   },
   "file_extension": ".py",
   "mimetype": "text/x-python",
   "name": "python",
   "nbconvert_exporter": "python",
   "pygments_lexer": "ipython3",
   "version": "3.12.4"
  }
 },
 "nbformat": 4,
 "nbformat_minor": 5
}
